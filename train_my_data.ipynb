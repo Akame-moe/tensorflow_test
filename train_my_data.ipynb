{
 "cells": [
  {
   "cell_type": "code",
   "execution_count": 2,
   "metadata": {},
   "outputs": [],
   "source": [
    "import tensorflow as tf\n",
    "from matplotlib import pyplot as plt\n",
    "import cv2\n",
    "import os\n",
    "import numpy as np"
   ]
  },
  {
   "cell_type": "code",
   "execution_count": 22,
   "metadata": {},
   "outputs": [
    {
     "data": {
      "image/png": "[encoded data removed]",
      "text/plain": [
       "<Figure size 432x288 with 1 Axes>"
      ]
     },
     "metadata": {},
     "output_type": "display_data"
    },
    {
     "data": {
      "image/png": "[encoded data removed]",
      "text/plain": [
       "<Figure size 432x288 with 1 Axes>"
      ]
     },
     "metadata": {},
     "output_type": "display_data"
    },
    {
     "name": "stdout",
     "output_type": "stream",
     "text": [
      "[[0 0 0 ... 0 0 0]\n",
      " [0 0 0 ... 0 0 0]\n",
      " [0 0 0 ... 0 0 0]\n",
      " ...\n",
      " [0 0 0 ... 0 0 0]\n",
      " [0 0 0 ... 0 0 0]\n",
      " [0 0 0 ... 0 0 0]]\n",
      "[  0   0   0   0   0   0   0   0 255 255 255   0   0   0   0   0   0   0\n",
      " 255 255 255   0   0   0   0   0   0   0   0   0   0   0   0   0   0   0\n",
      "   0   0   0   0]\n"
     ]
    }
   ],
   "source": [
    "impath = ['datasets/English/Img/Sample%03d' % (x+1) for x in range(10)]\n",
    "first_img = cv2.imread('datasets/English/Img/Sample001/img001-001.png',cv2.IMREAD_GRAYSCALE)\n",
    "first = cv2.resize(first_img,(40,40))\n",
    "plt.imshow(first_img,cmap='gray')\n",
    "plt.show()\n",
    "plt.figure()\n",
    "plt.imshow(first)\n",
    "plt.show()\n",
    "print(255-first)\n",
    "a = 255-first\n",
    "print(a[20])"
   ]
  },
  {
   "cell_type": "code",
   "execution_count": 23,
   "metadata": {},
   "outputs": [],
   "source": [
    "IMG_SIZE = 40\n",
    "data_set = []\n",
    "Y_train = [str(i) for i in range(10)]\n",
    "def load_data():\n",
    "    for p in impath:\n",
    "        label = impath.index(p)\n",
    "        for pp in os.listdir(p):\n",
    "            try:\n",
    "                im = cv2.imread(os.path.join(p,pp),cv2.IMREAD_GRAYSCALE)\n",
    "                new_im = cv2.resize(im,(IMG_SIZE,IMG_SIZE))\n",
    "                data_set.append([new_im,label])\n",
    "            except Exception as e:\n",
    "                pass\n",
    "            \n",
    "load_data()"
   ]
  },
  {
   "cell_type": "code",
   "execution_count": 25,
   "metadata": {},
   "outputs": [],
   "source": [
    "import random\n",
    "import pickle\n",
    "random.shuffle(data_set)\n",
    "with open('data_set.pickle','wb') as f:\n",
    "    pickle.dump(data_set,f)"
   ]
  },
  {
   "cell_type": "code",
   "execution_count": 26,
   "metadata": {},
   "outputs": [
    {
     "name": "stdout",
     "output_type": "stream",
     "text": [
      "2\n",
      "3\n",
      "0\n",
      "8\n",
      "4\n",
      "0\n",
      "2\n",
      "8\n",
      "1\n",
      "3\n"
     ]
    }
   ],
   "source": [
    "def load_train_data():\n",
    "    X_train = []\n",
    "    Y_train = []\n",
    "    with open('data_set.pickle','rb') as f:\n",
    "        pickle_data = pickle.load(f)\n",
    "    for x in pickle_data:\n",
    "        X_train.append(x[0])\n",
    "        Y_train.append(x[1])\n",
    "    return X_train,Y_train"
   ]
  },
  {
   "cell_type": "code",
   "execution_count": 28,
   "metadata": {},
   "outputs": [
    {
     "name": "stdout",
     "output_type": "stream",
     "text": [
      "[2, 3, 0, 8, 4, 0, 2, 8, 1, 3]\n"
     ]
    }
   ],
   "source": [
    "def load_train_data():\n",
    "    X_train = []\n",
    "    Y_train = []\n",
    "    with open('data_set.pickle','rb') as f:\n",
    "        pickle_data = pickle.load(f)\n",
    "    for x in pickle_data:\n",
    "        X_train.append(x[0])\n",
    "        Y_train.append(x[1])\n",
    "    return X_train,Y_train\n",
    "X_train,Y_train = load_train_data()\n",
    "print(Y_train[:10])"
   ]
  },
  {
   "cell_type": "code",
   "execution_count": 60,
   "metadata": {},
   "outputs": [
    {
     "name": "stdout",
     "output_type": "stream",
     "text": [
      "[2 3 0 8 4 0 2 8 1 3 8 7 8 4 9 5 9 8 2 7]\n"
     ]
    }
   ],
   "source": [
    "print(Y_train[:20])\n",
    "#[2 7 0 8 4 0 2 8 1 3 8 7 8 4 4 5 9 8 2 7]"
   ]
  },
  {
   "cell_type": "code",
   "execution_count": 30,
   "metadata": {},
   "outputs": [],
   "source": [
    "X_train = np.reshape(X_train,(-1,IMG_SIZE,IMG_SIZE,1))\n",
    "Y_train = np.reshape(Y_train,(-1,))"
   ]
  },
  {
   "cell_type": "code",
   "execution_count": 59,
   "metadata": {},
   "outputs": [
    {
     "data": {
      "text/plain": [
       "<matplotlib.image.AxesImage at 0x7f70b8356a58>"
      ]
     },
     "execution_count": 59,
     "metadata": {},
     "output_type": "execute_result"
    },
    {
     "data": {
      "image/png": "[encoded data removed]",
      "text/plain": [
       "<Figure size 432x288 with 1 Axes>"
      ]
     },
     "metadata": {},
     "output_type": "display_data"
    }
   ],
   "source": [
    "X_train.shape\n",
    "X_train[1:].shape\n",
    "tx = np.reshape(X_train,(-1,IMG_SIZE,IMG_SIZE))\n",
    "plt.imshow(tx[1])"
   ]
  },
  {
   "cell_type": "code",
   "execution_count": 34,
   "metadata": {},
   "outputs": [],
   "source": [
    "from tensorflow.keras.models import Sequential\n",
    "from tensorflow.keras.layers import Dense,Dropout,Activation,Flatten,Conv2D,MaxPooling2D"
   ]
  },
  {
   "cell_type": "code",
   "execution_count": 46,
   "metadata": {},
   "outputs": [
    {
     "data": {
      "text/plain": [
       "2"
      ]
     },
     "execution_count": 46,
     "metadata": {},
     "output_type": "execute_result"
    }
   ],
   "source": [
    "ty[0]"
   ]
  },
  {
   "cell_type": "code",
   "execution_count": 53,
   "metadata": {},
   "outputs": [
    {
     "name": "stdout",
     "output_type": "stream",
     "text": [
      "Train on 440 samples, validate on 110 samples\n",
      "Epoch 1/10\n",
      "440/440 [==============================] - 4s 9ms/step - loss: 2.3519 - acc: 0.1045 - val_loss: 2.2807 - val_acc: 0.1182\n",
      "Epoch 2/10\n",
      "440/440 [==============================] - 3s 6ms/step - loss: 2.2106 - acc: 0.1682 - val_loss: 2.1858 - val_acc: 0.2091\n",
      "Epoch 3/10\n",
      "440/440 [==============================] - 3s 8ms/step - loss: 1.9922 - acc: 0.3614 - val_loss: 1.9501 - val_acc: 0.3545\n",
      "Epoch 4/10\n",
      "440/440 [==============================] - 3s 6ms/step - loss: 1.6461 - acc: 0.5182 - val_loss: 1.6491 - val_acc: 0.5273\n",
      "Epoch 5/10\n",
      "440/440 [==============================] - 3s 6ms/step - loss: 1.3260 - acc: 0.6023 - val_loss: 1.5715 - val_acc: 0.5273\n",
      "Epoch 6/10\n",
      "440/440 [==============================] - 3s 6ms/step - loss: 1.1041 - acc: 0.6477 - val_loss: 1.3541 - val_acc: 0.6273\n",
      "Epoch 7/10\n",
      "440/440 [==============================] - 3s 6ms/step - loss: 0.9009 - acc: 0.7205 - val_loss: 1.3271 - val_acc: 0.6364\n",
      "Epoch 8/10\n",
      "440/440 [==============================] - 3s 7ms/step - loss: 0.7632 - acc: 0.7636 - val_loss: 1.2171 - val_acc: 0.6545\n",
      "Epoch 9/10\n",
      "440/440 [==============================] - 3s 6ms/step - loss: 0.6322 - acc: 0.8000 - val_loss: 1.1032 - val_acc: 0.7000\n",
      "Epoch 10/10\n",
      "440/440 [==============================] - 3s 6ms/step - loss: 0.5220 - acc: 0.8545 - val_loss: 1.1339 - val_acc: 0.7000\n"
     ]
    },
    {
     "data": {
      "text/plain": [
       "<tensorflow.python.keras.callbacks.History at 0x7f70e1b41be0>"
      ]
     },
     "execution_count": 53,
     "metadata": {},
     "output_type": "execute_result"
    }
   ],
   "source": [
    "X = X_train / 255.0\n",
    "model = Sequential()\n",
    "model.add(Conv2D(64,(3,3),input_shape=(IMG_SIZE,IMG_SIZE,1)))\n",
    "model.add(Activation('relu'))\n",
    "model.add(MaxPooling2D(pool_size=(2,2)))\n",
    "\n",
    "model.add(Conv2D(64,(3,3)))\n",
    "model.add(Activation('relu'))\n",
    "model.add(MaxPooling2D(pool_size=(2,2)))\n",
    "\n",
    "model.add(Flatten())\n",
    "model.add(Dense(64))\n",
    "\n",
    "#model.add(Dropout(0.2))\n",
    "\n",
    "model.add(Dense(10))\n",
    "model.add(Activation('softmax'))\n",
    "\n",
    "model.compile(optimizer='adam',\n",
    "              loss='sparse_categorical_crossentropy',\n",
    "              metrics=['accuracy'])\n",
    "\n",
    "model.fit(X,Y_train,batch_size=50,validation_split=0.2,epochs=10)"
   ]
  },
  {
   "cell_type": "code",
   "execution_count": 61,
   "metadata": {},
   "outputs": [
    {
     "name": "stdout",
     "output_type": "stream",
     "text": [
      "[2 7 0 8 4 0 2 8 1 3 8 7 8 4 4 5 9 8 2 7]\n"
     ]
    }
   ],
   "source": [
    "pred = model.predict(X_train[:20])\n",
    "print(np.argmax(pred,1))"
   ]
  },
  {
   "cell_type": "code",
   "execution_count": 62,
   "metadata": {},
   "outputs": [],
   "source": [
    "from tensorflow.keras.callbacks import TensorBoard\n",
    "import time\n"
   ]
  },
  {
   "cell_type": "code",
   "execution_count": null,
   "metadata": {},
   "outputs": [],
   "source": [
    "filename = 'mymodel-{}.ckpt'.format(int(time.time()))\n",
    "tensorboard = TensorBoard(log_dir='logs/{}'.format(filename))\n",
    "X = X_train / 255.0\n",
    "model = Sequential()\n",
    "model.add(Conv2D(64,(3,3),input_shape=(IMG_SIZE,IMG_SIZE,1)))\n",
    "model.add(Activation('relu'))\n",
    "model.add(MaxPooling2D(pool_size=(2,2)))\n",
    "\n",
    "model.add(Conv2D(64,(3,3)))\n",
    "model.add(Activation('relu'))\n",
    "model.add(MaxPooling2D(pool_size=(2,2)))\n",
    "\n",
    "model.add(Flatten())\n",
    "model.add(Dense(64))\n",
    "\n",
    "#model.add(Dropout(0.2))\n",
    "\n",
    "model.add(Dense(10))\n",
    "model.add(Activation('softmax'))\n",
    "\n",
    "model.compile(optimizer='adam',\n",
    "              loss='sparse_categorical_crossentropy',\n",
    "              metrics=['accuracy'])\n",
    "\n",
    "model.fit(X,Y_train,batch_size=50,validation_split=0.2,epochs=10,callbacks=[tensorboard])"
   ]
  }
 ],
 "metadata": {
  "kernelspec": {
   "display_name": "Python 3",
   "language": "python",
   "name": "python3"
  },
  "language_info": {
   "codemirror_mode": {
    "name": "ipython",
    "version": 3
   },
   "file_extension": ".py",
   "mimetype": "text/x-python",
   "name": "python",
   "nbconvert_exporter": "python",
   "pygments_lexer": "ipython3",
   "version": "3.5.2"
  }
 },
 "nbformat": 4,
 "nbformat_minor": 2
}
