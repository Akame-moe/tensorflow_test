{
 "cells": [
  {
   "cell_type": "code",
   "execution_count": null,
   "metadata": {},
   "outputs": [],
   "source": [
    "import tensorflow as tf\n",
    "import numpy as np\n",
    "\n",
    "#由于官方给的地址被墙。所以只有先翻墙下载下来然后改用自己的加载数据的方法\n",
    "#这个npz文件是numpy定义的格式。读入到numpy后可以转化为其对象。相当于反序列化。\n",
    "#至于x_train, y_train,x_test, y_test这些是什么你打印一下print(x_train)就知道了\n",
    "def load_data():\n",
    "    with np.load('datasets/mnist.npz') as f:\n",
    "        x_train, y_train = f['x_train'], f['y_train']\n",
    "        x_test, y_test = f['x_test'], f['y_test']\n",
    "    return (x_train, y_train), (x_test, y_test)\n",
    "\n",
    "(x_train, y_train),(x_test, y_test) = load_data()\n",
    "x_train, x_test = x_train / 255.0, x_test / 255.0\n",
    "\n",
    "\n",
    "#这里是定义模型如何处理数据\n",
    "model = tf.keras.models.Sequential([\n",
    "    #先让层扁平化\n",
    "  tf.keras.layers.Flatten(),\n",
    "    #定义激活函数是ReLU,不了解的话请移步：https://en.wikipedia.org/wiki/Rectifier_(neural_networks)\n",
    "    #或者：https://github.com/Kulbear/deep-learning-nano-foundation/wiki/ReLU-and-Softmax-Activation-Functions\n",
    "  tf.keras.layers.Dense(512, activation=tf.nn.relu),\n",
    "    #为了防止过渡拟合，设定丢弃概率为0.2，同时由于丢弃了一部分也可以加快训练速度，还可以提升准确度，至于为什么我没细看\n",
    "    #https://stackoverflow.com/questions/40879504/how-to-apply-drop-out-in-tensorflow-to-improve-the-accuracy-of-neural-network\n",
    "  tf.keras.layers.Dropout(0.2),\n",
    "    #定义激活函数是softmax\n",
    "  tf.keras.layers.Dense(10, activation=tf.nn.softmax)\n",
    "])\n",
    "#设置优化器为adam，tensorflow内置了很多优化器，这是其中一种\n",
    "#为了评估输出结果与标准结果的匹配度，我们还需要用到交叉熵(cross-entropy),具体是什么玩意我也没懂，不过你要想了解可以参考这里(http://colah.github.io/posts/2015-09-Visual-Information/)\n",
    "#度量是正确率\n",
    "model.compile(optimizer='adam',\n",
    "              loss='sparse_categorical_crossentropy',\n",
    "              metrics=['accuracy'])\n",
    "#自动调整参数，输入是x_train,输出是y_train.循环调整5代，循环代数越多越准确率越高，当然也更费时。经过实践，发现经过5代之后准确率就超过了98%。所以设定为5代。\n",
    "model.fit(x_train, y_train, epochs=5)\n",
    "#使用测试的输入输出来评估正确率\n",
    "model.evaluate(x_test, y_test)\n",
    "#保存训练好的模型\n",
    "model.save('test_model.data')"
   ]
  }
 ],
 "metadata": {
  "kernelspec": {
   "display_name": "Python 3",
   "language": "python",
   "name": "python3"
  },
  "language_info": {
   "codemirror_mode": {
    "name": "ipython",
    "version": 3
   },
   "file_extension": ".py",
   "mimetype": "text/x-python",
   "name": "python",
   "nbconvert_exporter": "python",
   "pygments_lexer": "ipython3",
   "version": "3.5.2"
  }
 },
 "nbformat": 4,
 "nbformat_minor": 2
}
